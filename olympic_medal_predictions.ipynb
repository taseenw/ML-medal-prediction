{
  "nbformat": 4,
  "nbformat_minor": 0,
  "metadata": {
    "colab": {
      "provenance": []
    },
    "kernelspec": {
      "name": "python3",
      "display_name": "Python 3"
    },
    "language_info": {
      "name": "python"
    }
  },
  "cells": [
    {
      "cell_type": "code",
      "execution_count": 7,
      "metadata": {
        "id": "iJMLue-3Q6Gh"
      },
      "outputs": [],
      "source": [
        "import pandas as pd"
      ]
    },
    {
      "cell_type": "code",
      "source": [
        "# Type: pandas DataFrame Object\n",
        "\n",
        "teams = pd.read_csv(\"teams.csv\")\n",
        "print(teams)"
      ],
      "metadata": {
        "colab": {
          "base_uri": "https://localhost:8080/"
        },
        "id": "Ha4JcLwkR_hx",
        "outputId": "99b32a77-5d6c-41eb-9f13-6c3c4a79bcdc"
      },
      "execution_count": 8,
      "outputs": [
        {
          "output_type": "stream",
          "name": "stdout",
          "text": [
            "     team      country  year  events  athletes   age  height  weight  medals  \\\n",
            "0     AFG  Afghanistan  1964       8         8  22.0   161.0    64.2       0   \n",
            "1     AFG  Afghanistan  1968       5         5  23.2   170.2    70.0       0   \n",
            "2     AFG  Afghanistan  1972       8         8  29.0   168.3    63.8       0   \n",
            "3     AFG  Afghanistan  1980      11        11  23.6   168.4    63.2       0   \n",
            "4     AFG  Afghanistan  2004       5         5  18.6   170.8    64.8       0   \n",
            "...   ...          ...   ...     ...       ...   ...     ...     ...     ...   \n",
            "2139  ZIM     Zimbabwe  2000      19        26  25.0   179.0    71.1       0   \n",
            "2140  ZIM     Zimbabwe  2004      11        14  25.1   177.8    70.5       3   \n",
            "2141  ZIM     Zimbabwe  2008      15        16  26.1   171.9    63.7       4   \n",
            "2142  ZIM     Zimbabwe  2012       8         9  27.3   174.4    65.2       0   \n",
            "2143  ZIM     Zimbabwe  2016      13        31  27.5   167.8    62.2       0   \n",
            "\n",
            "      prev_medals  prev_3_medals  \n",
            "0             0.0            0.0  \n",
            "1             0.0            0.0  \n",
            "2             0.0            0.0  \n",
            "3             0.0            0.0  \n",
            "4             0.0            0.0  \n",
            "...           ...            ...  \n",
            "2139          0.0            0.0  \n",
            "2140          0.0            0.0  \n",
            "2141          3.0            1.0  \n",
            "2142          4.0            2.3  \n",
            "2143          0.0            2.3  \n",
            "\n",
            "[2144 rows x 11 columns]\n"
          ]
        }
      ]
    },
    {
      "cell_type": "code",
      "source": [
        "teams = teams[[\"team\", \"country\", \"year\", \"athletes\", \"age\", \"prev_medals\", \"medals\"]]\n",
        "print(teams)"
      ],
      "metadata": {
        "colab": {
          "base_uri": "https://localhost:8080/"
        },
        "id": "bgo7eq46Smaf",
        "outputId": "ae0cd6cc-cf45-46f0-c986-5a76ca5498b2"
      },
      "execution_count": 9,
      "outputs": [
        {
          "output_type": "stream",
          "name": "stdout",
          "text": [
            "     team      country  year  athletes   age  prev_medals  medals\n",
            "0     AFG  Afghanistan  1964         8  22.0          0.0       0\n",
            "1     AFG  Afghanistan  1968         5  23.2          0.0       0\n",
            "2     AFG  Afghanistan  1972         8  29.0          0.0       0\n",
            "3     AFG  Afghanistan  1980        11  23.6          0.0       0\n",
            "4     AFG  Afghanistan  2004         5  18.6          0.0       0\n",
            "...   ...          ...   ...       ...   ...          ...     ...\n",
            "2139  ZIM     Zimbabwe  2000        26  25.0          0.0       0\n",
            "2140  ZIM     Zimbabwe  2004        14  25.1          0.0       3\n",
            "2141  ZIM     Zimbabwe  2008        16  26.1          3.0       4\n",
            "2142  ZIM     Zimbabwe  2012         9  27.3          4.0       0\n",
            "2143  ZIM     Zimbabwe  2016        31  27.5          0.0       0\n",
            "\n",
            "[2144 rows x 7 columns]\n"
          ]
        }
      ]
    },
    {
      "cell_type": "code",
      "source": [
        "teams.select_dtypes(include='number').corr()[\"medals\"]"
      ],
      "metadata": {
        "colab": {
          "base_uri": "https://localhost:8080/",
          "height": 241
        },
        "id": "Yr1sVHxmS5Pj",
        "outputId": "eefdb8d4-baaf-4c8f-a2b6-50c1260ccffc"
      },
      "execution_count": 10,
      "outputs": [
        {
          "output_type": "execute_result",
          "data": {
            "text/plain": [
              "year          -0.021603\n",
              "athletes       0.840817\n",
              "age            0.025096\n",
              "prev_medals    0.920048\n",
              "medals         1.000000\n",
              "Name: medals, dtype: float64"
            ],
            "text/html": [
              "<div>\n",
              "<style scoped>\n",
              "    .dataframe tbody tr th:only-of-type {\n",
              "        vertical-align: middle;\n",
              "    }\n",
              "\n",
              "    .dataframe tbody tr th {\n",
              "        vertical-align: top;\n",
              "    }\n",
              "\n",
              "    .dataframe thead th {\n",
              "        text-align: right;\n",
              "    }\n",
              "</style>\n",
              "<table border=\"1\" class=\"dataframe\">\n",
              "  <thead>\n",
              "    <tr style=\"text-align: right;\">\n",
              "      <th></th>\n",
              "      <th>medals</th>\n",
              "    </tr>\n",
              "  </thead>\n",
              "  <tbody>\n",
              "    <tr>\n",
              "      <th>year</th>\n",
              "      <td>-0.021603</td>\n",
              "    </tr>\n",
              "    <tr>\n",
              "      <th>athletes</th>\n",
              "      <td>0.840817</td>\n",
              "    </tr>\n",
              "    <tr>\n",
              "      <th>age</th>\n",
              "      <td>0.025096</td>\n",
              "    </tr>\n",
              "    <tr>\n",
              "      <th>prev_medals</th>\n",
              "      <td>0.920048</td>\n",
              "    </tr>\n",
              "    <tr>\n",
              "      <th>medals</th>\n",
              "      <td>1.000000</td>\n",
              "    </tr>\n",
              "  </tbody>\n",
              "</table>\n",
              "</div><br><label><b>dtype:</b> float64</label>"
            ]
          },
          "metadata": {},
          "execution_count": 10
        }
      ]
    },
    {
      "cell_type": "markdown",
      "source": [
        "Mathemetical visual, as you'd imagine prev_medals would show the highest correlation to medals"
      ],
      "metadata": {
        "id": "o3i_3h0ZTeZn"
      }
    },
    {
      "cell_type": "code",
      "source": [
        "# Graphing lib\n",
        "import seaborn as sns"
      ],
      "metadata": {
        "id": "e-7dMjapT042"
      },
      "execution_count": 11,
      "outputs": []
    },
    {
      "cell_type": "code",
      "source": [
        "sns.lmplot(x=\"prev_medals\", y=\"medals\", data=teams, fit_reg=True, ci=None)"
      ],
      "metadata": {
        "colab": {
          "base_uri": "https://localhost:8080/",
          "height": 524
        },
        "id": "iaQt-WmKUCYV",
        "outputId": "5991382f-d298-4db1-d493-a6b8b3230714"
      },
      "execution_count": 12,
      "outputs": [
        {
          "output_type": "execute_result",
          "data": {
            "text/plain": [
              "<seaborn.axisgrid.FacetGrid at 0x7827b08c7850>"
            ]
          },
          "metadata": {},
          "execution_count": 12
        },
        {
          "output_type": "display_data",
          "data": {
            "text/plain": [
              "<Figure size 500x500 with 1 Axes>"
            ],
            "image/png": "[encoded data removed]"
          },
          "metadata": {}
        }
      ]
    },
    {
      "cell_type": "markdown",
      "source": [
        "Correlation seen raw, we can make this better by removing entries with no prev medals (this is because previous medals NaN is not 0, it means maybe they didn't participate so irrelevant to draw from)"
      ],
      "metadata": {
        "id": "qk53jRXfVFRO"
      }
    },
    {
      "cell_type": "code",
      "source": [
        "# Remove any blanks (not specific, should be but we just playing around)\n",
        "teams = teams.dropna()\n",
        "\n",
        "# Graph it!\n",
        "sns.lmplot(x=\"prev_medals\", y=\"medals\", data=teams, fit_reg=True, ci=None)"
      ],
      "metadata": {
        "colab": {
          "base_uri": "https://localhost:8080/",
          "height": 524
        },
        "id": "RI-uCf6hVVh8",
        "outputId": "667343e2-a9da-4575-8dcb-c02a21d5f3bf"
      },
      "execution_count": 13,
      "outputs": [
        {
          "output_type": "execute_result",
          "data": {
            "text/plain": [
              "<seaborn.axisgrid.FacetGrid at 0x7827bad3c690>"
            ]
          },
          "metadata": {},
          "execution_count": 13
        },
        {
          "output_type": "display_data",
          "data": {
            "text/plain": [
              "<Figure size 500x500 with 1 Axes>"
            ],
            "image/png": "[encoded data removed]"
          },
          "metadata": {}
        }
      ]
    },
    {
      "cell_type": "markdown",
      "source": [
        "Theoretically better, now we are done with visuals, lets remove some of the last years off the data, we need to do this since we don't wanna train on everything then predict a year(s) it was trained on, think realistically\n",
        "\n",
        "\n",
        "*   You won't have access to the data of the year you wanna predict, can't time travel buddy.\n",
        "\n"
      ],
      "metadata": {
        "id": "MS6CGoyHVoTO"
      }
    },
    {
      "cell_type": "code",
      "source": [
        "# DataFrame Object filtering\n",
        "training_data = teams[teams[\"year\"] < 2012].copy()\n",
        "test_data = teams[teams[\"year\"] >= 2012].copy()\n",
        "\n",
        "#Visualize - data sets\n",
        "print(training_data)\n",
        "print(test_data)"
      ],
      "metadata": {
        "colab": {
          "base_uri": "https://localhost:8080/"
        },
        "id": "sViPEJYHV9L1",
        "outputId": "e3bb7ea5-4886-4484-d161-4aae7ce6ed1f"
      },
      "execution_count": 14,
      "outputs": [
        {
          "output_type": "stream",
          "name": "stdout",
          "text": [
            "     team      country  year  athletes   age  prev_medals  medals\n",
            "0     AFG  Afghanistan  1964         8  22.0          0.0       0\n",
            "1     AFG  Afghanistan  1968         5  23.2          0.0       0\n",
            "2     AFG  Afghanistan  1972         8  29.0          0.0       0\n",
            "3     AFG  Afghanistan  1980        11  23.6          0.0       0\n",
            "4     AFG  Afghanistan  2004         5  18.6          0.0       0\n",
            "...   ...          ...   ...       ...   ...          ...     ...\n",
            "2137  ZIM     Zimbabwe  1992        28  21.2          0.0       0\n",
            "2138  ZIM     Zimbabwe  1996        21  23.8          0.0       0\n",
            "2139  ZIM     Zimbabwe  2000        26  25.0          0.0       0\n",
            "2140  ZIM     Zimbabwe  2004        14  25.1          0.0       3\n",
            "2141  ZIM     Zimbabwe  2008        16  26.1          3.0       4\n",
            "\n",
            "[1609 rows x 7 columns]\n",
            "     team      country  year  athletes   age  prev_medals  medals\n",
            "6     AFG  Afghanistan  2012         6  24.8          1.0       1\n",
            "7     AFG  Afghanistan  2016         3  24.7          1.0       0\n",
            "24    ALB      Albania  2012        10  25.7          0.0       0\n",
            "25    ALB      Albania  2016         6  23.7          0.0       0\n",
            "37    ALG      Algeria  2012        39  24.8          2.0       1\n",
            "...   ...          ...   ...       ...   ...          ...     ...\n",
            "2111  YEM        Yemen  2016         3  19.3          0.0       0\n",
            "2131  ZAM       Zambia  2012         7  22.6          0.0       0\n",
            "2132  ZAM       Zambia  2016         7  24.1          0.0       0\n",
            "2142  ZIM     Zimbabwe  2012         9  27.3          4.0       0\n",
            "2143  ZIM     Zimbabwe  2016        31  27.5          0.0       0\n",
            "\n",
            "[405 rows x 7 columns]\n"
          ]
        }
      ]
    },
    {
      "cell_type": "code",
      "source": [
        "# Visualize - Returns row x columns\n",
        "print(\"training data shape -> \" + str(training_data.shape))\n",
        "print(\"test data shape -> \" + str(test_data.shape))"
      ],
      "metadata": {
        "colab": {
          "base_uri": "https://localhost:8080/"
        },
        "id": "BEmhhRFcXeiI",
        "outputId": "c1259c87-3d46-4652-d7a4-2c35428bb11d"
      },
      "execution_count": 15,
      "outputs": [
        {
          "output_type": "stream",
          "name": "stdout",
          "text": [
            "training data shape -> (1609, 7)\n",
            "test data shape -> (405, 7)\n"
          ]
        }
      ]
    },
    {
      "cell_type": "code",
      "source": [
        "# Import linear regression algorithm from scikit-learn\n",
        "from sklearn.linear_model import LinearRegression"
      ],
      "metadata": {
        "id": "G-uebB9nYPKr"
      },
      "execution_count": 16,
      "outputs": []
    },
    {
      "cell_type": "code",
      "source": [
        "# Initialize linear regression class, and cols to use to predict, and the target val we are predicting\n",
        "regression = LinearRegression()\n",
        "predictors = [\"athletes\", \"prev_medals\"]\n",
        "target = \"medals\""
      ],
      "metadata": {
        "id": "7HcEJAmDYmIx"
      },
      "execution_count": 17,
      "outputs": []
    },
    {
      "cell_type": "code",
      "source": [
        "regression.fit(training_data[predictors], training_data[\"medals\"])"
      ],
      "metadata": {
        "colab": {
          "base_uri": "https://localhost:8080/",
          "height": 80
        },
        "id": "67RfrygAY9LD",
        "outputId": "4985f369-1114-4b4d-d5c3-63f40bed7eb0"
      },
      "execution_count": 18,
      "outputs": [
        {
          "output_type": "execute_result",
          "data": {
            "text/plain": [
              "LinearRegression()"
            ],
            "text/html": [
              "<style>#sk-container-id-1 {\n",
              "  /* Definition of color scheme common for light and dark mode */\n",
              "  --sklearn-color-text: #000;\n",
              "  --sklearn-color-text-muted: #666;\n",
              "  --sklearn-color-line: gray;\n",
              "  /* Definition of color scheme for unfitted estimators */\n",
              "  --sklearn-color-unfitted-level-0: #fff5e6;\n",
              "  --sklearn-color-unfitted-level-1: #f6e4d2;\n",
              "  --sklearn-color-unfitted-level-2: #ffe0b3;\n",
              "  --sklearn-color-unfitted-level-3: chocolate;\n",
              "  /* Definition of color scheme for fitted estimators */\n",
              "  --sklearn-color-fitted-level-0: #f0f8ff;\n",
              "  --sklearn-color-fitted-level-1: #d4ebff;\n",
              "  --sklearn-color-fitted-level-2: #b3dbfd;\n",
              "  --sklearn-color-fitted-level-3: cornflowerblue;\n",
              "\n",
              "  /* Specific color for light theme */\n",
              "  --sklearn-color-text-on-default-background: var(--sg-text-color, var(--theme-code-foreground, var(--jp-content-font-color1, black)));\n",
              "  --sklearn-color-background: var(--sg-background-color, var(--theme-background, var(--jp-layout-color0, white)));\n",
              "  --sklearn-color-border-box: var(--sg-text-color, var(--theme-code-foreground, var(--jp-content-font-color1, black)));\n",
              "  --sklearn-color-icon: #696969;\n",
              "\n",
              "  @media (prefers-color-scheme: dark) {\n",
              "    /* Redefinition of color scheme for dark theme */\n",
              "    --sklearn-color-text-on-default-background: var(--sg-text-color, var(--theme-code-foreground, var(--jp-content-font-color1, white)));\n",
              "    --sklearn-color-background: var(--sg-background-color, var(--theme-background, var(--jp-layout-color0, #111)));\n",
              "    --sklearn-color-border-box: var(--sg-text-color, var(--theme-code-foreground, var(--jp-content-font-color1, white)));\n",
              "    --sklearn-color-icon: #878787;\n",
              "  }\n",
              "}\n",
              "\n",
              "#sk-container-id-1 {\n",
              "  color: var(--sklearn-color-text);\n",
              "}\n",
              "\n",
              "#sk-container-id-1 pre {\n",
              "  padding: 0;\n",
              "}\n",
              "\n",
              "#sk-container-id-1 input.sk-hidden--visually {\n",
              "  border: 0;\n",
              "  clip: rect(1px 1px 1px 1px);\n",
              "  clip: rect(1px, 1px, 1px, 1px);\n",
              "  height: 1px;\n",
              "  margin: -1px;\n",
              "  overflow: hidden;\n",
              "  padding: 0;\n",
              "  position: absolute;\n",
              "  width: 1px;\n",
              "}\n",
              "\n",
              "#sk-container-id-1 div.sk-dashed-wrapped {\n",
              "  border: 1px dashed var(--sklearn-color-line);\n",
              "  margin: 0 0.4em 0.5em 0.4em;\n",
              "  box-sizing: border-box;\n",
              "  padding-bottom: 0.4em;\n",
              "  background-color: var(--sklearn-color-background);\n",
              "}\n",
              "\n",
              "#sk-container-id-1 div.sk-container {\n",
              "  /* jupyter's `normalize.less` sets `[hidden] { display: none; }`\n",
              "     but bootstrap.min.css set `[hidden] { display: none !important; }`\n",
              "     so we also need the `!important` here to be able to override the\n",
              "     default hidden behavior on the sphinx rendered scikit-learn.org.\n",
              "     See: https://github.com/scikit-learn/scikit-learn/issues/21755 */\n",
              "  display: inline-block !important;\n",
              "  position: relative;\n",
              "}\n",
              "\n",
              "#sk-container-id-1 div.sk-text-repr-fallback {\n",
              "  display: none;\n",
              "}\n",
              "\n",
              "div.sk-parallel-item,\n",
              "div.sk-serial,\n",
              "div.sk-item {\n",
              "  /* draw centered vertical line to link estimators */\n",
              "  background-image: linear-gradient(var(--sklearn-color-text-on-default-background), var(--sklearn-color-text-on-default-background));\n",
              "  background-size: 2px 100%;\n",
              "  background-repeat: no-repeat;\n",
              "  background-position: center center;\n",
              "}\n",
              "\n",
              "/* Parallel-specific style estimator block */\n",
              "\n",
              "#sk-container-id-1 div.sk-parallel-item::after {\n",
              "  content: \"\";\n",
              "  width: 100%;\n",
              "  border-bottom: 2px solid var(--sklearn-color-text-on-default-background);\n",
              "  flex-grow: 1;\n",
              "}\n",
              "\n",
              "#sk-container-id-1 div.sk-parallel {\n",
              "  display: flex;\n",
              "  align-items: stretch;\n",
              "  justify-content: center;\n",
              "  background-color: var(--sklearn-color-background);\n",
              "  position: relative;\n",
              "}\n",
              "\n",
              "#sk-container-id-1 div.sk-parallel-item {\n",
              "  display: flex;\n",
              "  flex-direction: column;\n",
              "}\n",
              "\n",
              "#sk-container-id-1 div.sk-parallel-item:first-child::after {\n",
              "  align-self: flex-end;\n",
              "  width: 50%;\n",
              "}\n",
              "\n",
              "#sk-container-id-1 div.sk-parallel-item:last-child::after {\n",
              "  align-self: flex-start;\n",
              "  width: 50%;\n",
              "}\n",
              "\n",
              "#sk-container-id-1 div.sk-parallel-item:only-child::after {\n",
              "  width: 0;\n",
              "}\n",
              "\n",
              "/* Serial-specific style estimator block */\n",
              "\n",
              "#sk-container-id-1 div.sk-serial {\n",
              "  display: flex;\n",
              "  flex-direction: column;\n",
              "  align-items: center;\n",
              "  background-color: var(--sklearn-color-background);\n",
              "  padding-right: 1em;\n",
              "  padding-left: 1em;\n",
              "}\n",
              "\n",
              "\n",
              "/* Toggleable style: style used for estimator/Pipeline/ColumnTransformer box that is\n",
              "clickable and can be expanded/collapsed.\n",
              "- Pipeline and ColumnTransformer use this feature and define the default style\n",
              "- Estimators will overwrite some part of the style using the `sk-estimator` class\n",
              "*/\n",
              "\n",
              "/* Pipeline and ColumnTransformer style (default) */\n",
              "\n",
              "#sk-container-id-1 div.sk-toggleable {\n",
              "  /* Default theme specific background. It is overwritten whether we have a\n",
              "  specific estimator or a Pipeline/ColumnTransformer */\n",
              "  background-color: var(--sklearn-color-background);\n",
              "}\n",
              "\n",
              "/* Toggleable label */\n",
              "#sk-container-id-1 label.sk-toggleable__label {\n",
              "  cursor: pointer;\n",
              "  display: flex;\n",
              "  width: 100%;\n",
              "  margin-bottom: 0;\n",
              "  padding: 0.5em;\n",
              "  box-sizing: border-box;\n",
              "  text-align: center;\n",
              "  align-items: start;\n",
              "  justify-content: space-between;\n",
              "  gap: 0.5em;\n",
              "}\n",
              "\n",
              "#sk-container-id-1 label.sk-toggleable__label .caption {\n",
              "  font-size: 0.6rem;\n",
              "  font-weight: lighter;\n",
              "  color: var(--sklearn-color-text-muted);\n",
              "}\n",
              "\n",
              "#sk-container-id-1 label.sk-toggleable__label-arrow:before {\n",
              "  /* Arrow on the left of the label */\n",
              "  content: \"▸\";\n",
              "  float: left;\n",
              "  margin-right: 0.25em;\n",
              "  color: var(--sklearn-color-icon);\n",
              "}\n",
              "\n",
              "#sk-container-id-1 label.sk-toggleable__label-arrow:hover:before {\n",
              "  color: var(--sklearn-color-text);\n",
              "}\n",
              "\n",
              "/* Toggleable content - dropdown */\n",
              "\n",
              "#sk-container-id-1 div.sk-toggleable__content {\n",
              "  max-height: 0;\n",
              "  max-width: 0;\n",
              "  overflow: hidden;\n",
              "  text-align: left;\n",
              "  /* unfitted */\n",
              "  background-color: var(--sklearn-color-unfitted-level-0);\n",
              "}\n",
              "\n",
              "#sk-container-id-1 div.sk-toggleable__content.fitted {\n",
              "  /* fitted */\n",
              "  background-color: var(--sklearn-color-fitted-level-0);\n",
              "}\n",
              "\n",
              "#sk-container-id-1 div.sk-toggleable__content pre {\n",
              "  margin: 0.2em;\n",
              "  border-radius: 0.25em;\n",
              "  color: var(--sklearn-color-text);\n",
              "  /* unfitted */\n",
              "  background-color: var(--sklearn-color-unfitted-level-0);\n",
              "}\n",
              "\n",
              "#sk-container-id-1 div.sk-toggleable__content.fitted pre {\n",
              "  /* unfitted */\n",
              "  background-color: var(--sklearn-color-fitted-level-0);\n",
              "}\n",
              "\n",
              "#sk-container-id-1 input.sk-toggleable__control:checked~div.sk-toggleable__content {\n",
              "  /* Expand drop-down */\n",
              "  max-height: 200px;\n",
              "  max-width: 100%;\n",
              "  overflow: auto;\n",
              "}\n",
              "\n",
              "#sk-container-id-1 input.sk-toggleable__control:checked~label.sk-toggleable__label-arrow:before {\n",
              "  content: \"▾\";\n",
              "}\n",
              "\n",
              "/* Pipeline/ColumnTransformer-specific style */\n",
              "\n",
              "#sk-container-id-1 div.sk-label input.sk-toggleable__control:checked~label.sk-toggleable__label {\n",
              "  color: var(--sklearn-color-text);\n",
              "  background-color: var(--sklearn-color-unfitted-level-2);\n",
              "}\n",
              "\n",
              "#sk-container-id-1 div.sk-label.fitted input.sk-toggleable__control:checked~label.sk-toggleable__label {\n",
              "  background-color: var(--sklearn-color-fitted-level-2);\n",
              "}\n",
              "\n",
              "/* Estimator-specific style */\n",
              "\n",
              "/* Colorize estimator box */\n",
              "#sk-container-id-1 div.sk-estimator input.sk-toggleable__control:checked~label.sk-toggleable__label {\n",
              "  /* unfitted */\n",
              "  background-color: var(--sklearn-color-unfitted-level-2);\n",
              "}\n",
              "\n",
              "#sk-container-id-1 div.sk-estimator.fitted input.sk-toggleable__control:checked~label.sk-toggleable__label {\n",
              "  /* fitted */\n",
              "  background-color: var(--sklearn-color-fitted-level-2);\n",
              "}\n",
              "\n",
              "#sk-container-id-1 div.sk-label label.sk-toggleable__label,\n",
              "#sk-container-id-1 div.sk-label label {\n",
              "  /* The background is the default theme color */\n",
              "  color: var(--sklearn-color-text-on-default-background);\n",
              "}\n",
              "\n",
              "/* On hover, darken the color of the background */\n",
              "#sk-container-id-1 div.sk-label:hover label.sk-toggleable__label {\n",
              "  color: var(--sklearn-color-text);\n",
              "  background-color: var(--sklearn-color-unfitted-level-2);\n",
              "}\n",
              "\n",
              "/* Label box, darken color on hover, fitted */\n",
              "#sk-container-id-1 div.sk-label.fitted:hover label.sk-toggleable__label.fitted {\n",
              "  color: var(--sklearn-color-text);\n",
              "  background-color: var(--sklearn-color-fitted-level-2);\n",
              "}\n",
              "\n",
              "/* Estimator label */\n",
              "\n",
              "#sk-container-id-1 div.sk-label label {\n",
              "  font-family: monospace;\n",
              "  font-weight: bold;\n",
              "  display: inline-block;\n",
              "  line-height: 1.2em;\n",
              "}\n",
              "\n",
              "#sk-container-id-1 div.sk-label-container {\n",
              "  text-align: center;\n",
              "}\n",
              "\n",
              "/* Estimator-specific */\n",
              "#sk-container-id-1 div.sk-estimator {\n",
              "  font-family: monospace;\n",
              "  border: 1px dotted var(--sklearn-color-border-box);\n",
              "  border-radius: 0.25em;\n",
              "  box-sizing: border-box;\n",
              "  margin-bottom: 0.5em;\n",
              "  /* unfitted */\n",
              "  background-color: var(--sklearn-color-unfitted-level-0);\n",
              "}\n",
              "\n",
              "#sk-container-id-1 div.sk-estimator.fitted {\n",
              "  /* fitted */\n",
              "  background-color: var(--sklearn-color-fitted-level-0);\n",
              "}\n",
              "\n",
              "/* on hover */\n",
              "#sk-container-id-1 div.sk-estimator:hover {\n",
              "  /* unfitted */\n",
              "  background-color: var(--sklearn-color-unfitted-level-2);\n",
              "}\n",
              "\n",
              "#sk-container-id-1 div.sk-estimator.fitted:hover {\n",
              "  /* fitted */\n",
              "  background-color: var(--sklearn-color-fitted-level-2);\n",
              "}\n",
              "\n",
              "/* Specification for estimator info (e.g. \"i\" and \"?\") */\n",
              "\n",
              "/* Common style for \"i\" and \"?\" */\n",
              "\n",
              ".sk-estimator-doc-link,\n",
              "a:link.sk-estimator-doc-link,\n",
              "a:visited.sk-estimator-doc-link {\n",
              "  float: right;\n",
              "  font-size: smaller;\n",
              "  line-height: 1em;\n",
              "  font-family: monospace;\n",
              "  background-color: var(--sklearn-color-background);\n",
              "  border-radius: 1em;\n",
              "  height: 1em;\n",
              "  width: 1em;\n",
              "  text-decoration: none !important;\n",
              "  margin-left: 0.5em;\n",
              "  text-align: center;\n",
              "  /* unfitted */\n",
              "  border: var(--sklearn-color-unfitted-level-1) 1pt solid;\n",
              "  color: var(--sklearn-color-unfitted-level-1);\n",
              "}\n",
              "\n",
              ".sk-estimator-doc-link.fitted,\n",
              "a:link.sk-estimator-doc-link.fitted,\n",
              "a:visited.sk-estimator-doc-link.fitted {\n",
              "  /* fitted */\n",
              "  border: var(--sklearn-color-fitted-level-1) 1pt solid;\n",
              "  color: var(--sklearn-color-fitted-level-1);\n",
              "}\n",
              "\n",
              "/* On hover */\n",
              "div.sk-estimator:hover .sk-estimator-doc-link:hover,\n",
              ".sk-estimator-doc-link:hover,\n",
              "div.sk-label-container:hover .sk-estimator-doc-link:hover,\n",
              ".sk-estimator-doc-link:hover {\n",
              "  /* unfitted */\n",
              "  background-color: var(--sklearn-color-unfitted-level-3);\n",
              "  color: var(--sklearn-color-background);\n",
              "  text-decoration: none;\n",
              "}\n",
              "\n",
              "div.sk-estimator.fitted:hover .sk-estimator-doc-link.fitted:hover,\n",
              ".sk-estimator-doc-link.fitted:hover,\n",
              "div.sk-label-container:hover .sk-estimator-doc-link.fitted:hover,\n",
              ".sk-estimator-doc-link.fitted:hover {\n",
              "  /* fitted */\n",
              "  background-color: var(--sklearn-color-fitted-level-3);\n",
              "  color: var(--sklearn-color-background);\n",
              "  text-decoration: none;\n",
              "}\n",
              "\n",
              "/* Span, style for the box shown on hovering the info icon */\n",
              ".sk-estimator-doc-link span {\n",
              "  display: none;\n",
              "  z-index: 9999;\n",
              "  position: relative;\n",
              "  font-weight: normal;\n",
              "  right: .2ex;\n",
              "  padding: .5ex;\n",
              "  margin: .5ex;\n",
              "  width: min-content;\n",
              "  min-width: 20ex;\n",
              "  max-width: 50ex;\n",
              "  color: var(--sklearn-color-text);\n",
              "  box-shadow: 2pt 2pt 4pt #999;\n",
              "  /* unfitted */\n",
              "  background: var(--sklearn-color-unfitted-level-0);\n",
              "  border: .5pt solid var(--sklearn-color-unfitted-level-3);\n",
              "}\n",
              "\n",
              ".sk-estimator-doc-link.fitted span {\n",
              "  /* fitted */\n",
              "  background: var(--sklearn-color-fitted-level-0);\n",
              "  border: var(--sklearn-color-fitted-level-3);\n",
              "}\n",
              "\n",
              ".sk-estimator-doc-link:hover span {\n",
              "  display: block;\n",
              "}\n",
              "\n",
              "/* \"?\"-specific style due to the `<a>` HTML tag */\n",
              "\n",
              "#sk-container-id-1 a.estimator_doc_link {\n",
              "  float: right;\n",
              "  font-size: 1rem;\n",
              "  line-height: 1em;\n",
              "  font-family: monospace;\n",
              "  background-color: var(--sklearn-color-background);\n",
              "  border-radius: 1rem;\n",
              "  height: 1rem;\n",
              "  width: 1rem;\n",
              "  text-decoration: none;\n",
              "  /* unfitted */\n",
              "  color: var(--sklearn-color-unfitted-level-1);\n",
              "  border: var(--sklearn-color-unfitted-level-1) 1pt solid;\n",
              "}\n",
              "\n",
              "#sk-container-id-1 a.estimator_doc_link.fitted {\n",
              "  /* fitted */\n",
              "  border: var(--sklearn-color-fitted-level-1) 1pt solid;\n",
              "  color: var(--sklearn-color-fitted-level-1);\n",
              "}\n",
              "\n",
              "/* On hover */\n",
              "#sk-container-id-1 a.estimator_doc_link:hover {\n",
              "  /* unfitted */\n",
              "  background-color: var(--sklearn-color-unfitted-level-3);\n",
              "  color: var(--sklearn-color-background);\n",
              "  text-decoration: none;\n",
              "}\n",
              "\n",
              "#sk-container-id-1 a.estimator_doc_link.fitted:hover {\n",
              "  /* fitted */\n",
              "  background-color: var(--sklearn-color-fitted-level-3);\n",
              "}\n",
              "</style><div id=\"sk-container-id-1\" class=\"sk-top-container\"><div class=\"sk-text-repr-fallback\"><pre>LinearRegression()</pre><b>In a Jupyter environment, please rerun this cell to show the HTML representation or trust the notebook. <br />On GitHub, the HTML representation is unable to render, please try loading this page with nbviewer.org.</b></div><div class=\"sk-container\" hidden><div class=\"sk-item\"><div class=\"sk-estimator fitted sk-toggleable\"><input class=\"sk-toggleable__control sk-hidden--visually\" id=\"sk-estimator-id-1\" type=\"checkbox\" checked><label for=\"sk-estimator-id-1\" class=\"sk-toggleable__label fitted sk-toggleable__label-arrow\"><div><div>LinearRegression</div></div><div><a class=\"sk-estimator-doc-link fitted\" rel=\"noreferrer\" target=\"_blank\" href=\"https://scikit-learn.org/1.6/modules/generated/sklearn.linear_model.LinearRegression.html\">?<span>Documentation for LinearRegression</span></a><span class=\"sk-estimator-doc-link fitted\">i<span>Fitted</span></span></div></label><div class=\"sk-toggleable__content fitted\"><pre>LinearRegression()</pre></div> </div></div></div></div>"
            ]
          },
          "metadata": {},
          "execution_count": 18
        }
      ]
    },
    {
      "cell_type": "code",
      "source": [
        "predictions = regression.predict(test_data[predictors])\n",
        "print(predictions)"
      ],
      "metadata": {
        "colab": {
          "base_uri": "https://localhost:8080/"
        },
        "id": "iNTYMli1ZRaI",
        "outputId": "a727ff5c-e9a9-4f0d-f3e8-abe87c18febb"
      },
      "execution_count": 19,
      "outputs": [
        {
          "output_type": "stream",
          "name": "stdout",
          "text": [
            "[-9.61221245e-01 -1.17633261e+00 -1.42503158e+00 -1.71184673e+00\n",
            "  2.15562926e+00  3.91463636e+00 -1.71184673e+00 -1.85525431e+00\n",
            "  3.67563128e-01 -2.77770967e-01 -1.85525431e+00 -1.49673537e+00\n",
            "  4.67519911e+01  2.87550937e+01  4.58450091e+00  2.54773581e+00\n",
            " -1.85525431e+00 -1.64014295e+00 -1.85525431e+00 -1.85525431e+00\n",
            "  1.46556876e+02  1.20571799e+02  6.56314795e+00  3.95275254e+00\n",
            "  7.34283247e+00  1.03117468e+01  5.19171882e+00  3.58517645e+00\n",
            " -1.64014295e+00 -1.64014295e+00 -1.56843916e+00 -1.20992022e+00\n",
            " -1.71184673e+00 -1.42503158e+00  1.17929959e+01  1.00049298e+01\n",
            " -1.78355052e+00 -1.71184673e+00 -1.56843916e+00 -1.56843916e+00\n",
            " -1.99866189e+00 -1.99866189e+00 -1.56843916e+00 -1.35332779e+00\n",
            " -1.92695810e+00 -1.92695810e+00  3.28912706e+01  2.53042547e+01\n",
            " -1.78355052e+00 -1.28162400e+00 -1.85525431e+00 -3.87590939e-01\n",
            "  7.83480779e+01  8.39481430e+01 -1.13821643e+00  9.74781040e-01\n",
            " -1.92695810e+00 -1.92695810e+00  6.98884211e+00  3.51800124e+00\n",
            " -1.78355052e+00 -1.78355052e+00 -1.71184673e+00 -1.71184673e+00\n",
            " -1.71184673e+00 -1.71184673e+00  4.95129637e+01  6.81823667e+01\n",
            " -1.64014295e+00 -1.78355052e+00 -1.64014295e+00 -1.42503158e+00\n",
            " -1.99866189e+00 -1.99866189e+00  1.76352271e+00  1.22800859e+00\n",
            "  1.70319135e+02  1.27466307e+02 -1.42503158e+00 -1.06651264e+00\n",
            "  9.03077251e-01 -5.64586121e-01 -1.85525431e+00 -1.85525431e+00\n",
            " -1.49673537e+00 -1.49673537e+00  7.96363611e+00  1.51204292e+01\n",
            " -1.92695810e+00 -1.85525431e+00 -1.92695810e+00 -1.78355052e+00\n",
            " -1.35332779e+00 -1.28162400e+00  1.00721050e+01  3.07982750e+01\n",
            "  4.15983755e+01  1.86203291e+01 -1.20992022e+00  1.14335580e-01\n",
            "  1.45132113e+01  1.80466988e+01  2.28036793e+01  2.01215801e+01\n",
            " -1.85525431e+00 -1.56843916e+00 -1.99866189e+00 -1.99866189e+00\n",
            "  1.94051789e+00  1.51029516e+00  1.18989240e+00  7.26082069e-01\n",
            "  8.07345608e+00  9.18260052e+00 -1.28162400e+00 -1.28162400e+00\n",
            " -1.35332779e+00 -1.42503158e+00  7.47092990e+01  7.11758115e+01\n",
            "  2.69114338e+00  2.87266714e+00  5.55023776e+00  5.83705291e+00\n",
            " -1.49673537e+00  1.65823132e+00  6.55861938e+00  6.41521180e+00\n",
            "  8.62019070e+01  9.61215602e+01 -1.71184673e+00 -1.78355052e+00\n",
            " -6.36289909e-01 -9.61221245e-01 -1.99866189e+00  1.07703986e+02\n",
            "  1.26711153e+02 -1.85525431e+00 -1.78355052e+00  4.94301985e+00\n",
            "  6.33897943e+00 -1.99866189e+00 -2.07036568e+00  1.08738786e+02\n",
            "  1.06849957e+02 -1.64014295e+00 -1.06651264e+00  1.13582446e+01\n",
            "  7.56700099e+00 -1.56843916e+00 -9.61221245e-01 -4.21178544e-01\n",
            "  4.01150733e-01 -1.85525431e+00 -1.78355052e+00 -1.56843916e+00\n",
            " -1.78355052e+00 -1.71184673e+00 -1.64014295e+00 -1.78355052e+00\n",
            " -1.42503158e+00  1.80163889e+00  1.97863408e+00 -3.49474756e-01\n",
            " -4.92882332e-01  3.25372802e+01  3.20017661e+01  4.68979230e+00\n",
            "  1.58199895e+00  6.92166689e+00  1.16831760e+01 -1.85525431e+00\n",
            " -1.49673537e+00  3.44629745e+00  1.16695902e+01  5.55929492e+00\n",
            "  8.27951030e+00 -1.56843916e+00 -7.07993697e-01  1.09480238e+01\n",
            " -1.13821643e+00  2.62396817e+00  2.08845405e+00 -1.49673537e+00\n",
            " -1.64014295e+00  5.67750482e+01  7.75102753e+01 -1.99866189e+00\n",
            " -1.85525431e+00  1.28123223e+01  2.21447595e+01 -1.49673537e+00\n",
            " -1.56843916e+00  6.47496420e+01  9.21733233e+01  1.70809620e+01\n",
            "  1.64356279e+01  1.27742061e+01  1.18511140e+01  4.34738339e-01\n",
            " -7.79697486e-01 -1.92695810e+00 -1.92695810e+00  7.87783006e+01\n",
            "  6.25041817e+01 -4.92882332e-01  1.64917416e+00 -1.28162400e+00\n",
            " -1.92695810e+00 -1.78355052e+00  3.69499642e+00  2.47603202e+00\n",
            " -1.85525431e+00 -1.64014295e+00 -1.92695810e+00 -1.85525431e+00\n",
            " -1.78355052e+00 -1.85525431e+00 -1.49673537e+00 -1.42503158e+00\n",
            " -1.49673537e+00 -1.85525431e+00 -1.92695810e+00  6.77373074e+00\n",
            "  7.34736105e+00 -1.35332779e+00 -1.06651264e+00 -1.64014295e+00\n",
            " -1.71184673e+00  4.16333533e+00  2.33715302e+00  1.33329998e+00\n",
            "  2.37074062e+00 -1.92695810e+00 -1.78355052e+00  4.26317914e-02\n",
            "  1.00836865e+00 -1.78355052e+00 -1.85525431e+00  9.39318330e+00\n",
            "  2.58397688e+01  3.15495372e+00  4.90943224e+00 -1.85525431e+00\n",
            " -1.78355052e+00 -1.85525431e+00 -1.71184673e+00 -1.71184673e+00\n",
            " -1.71184673e+00 -1.78355052e+00 -1.56843916e+00  2.95859339e-01\n",
            "  1.08763200e+01 -1.71184673e+00 -1.56843916e+00 -1.71184673e+00\n",
            " -1.56843916e+00 -6.02702304e-01 -1.35332779e+00 -1.99866189e+00\n",
            " -1.99866189e+00 -1.71184673e+00 -1.56843916e+00 -1.49673537e+00\n",
            " -1.35332779e+00 -1.71184673e+00 -1.78355052e+00  5.95643264e+01\n",
            "  7.32416356e+01 -1.78355052e+00 -1.64014295e+00  1.92811365e+01\n",
            "  3.37912224e+00 -1.71184673e+00 -1.71184673e+00  1.93192527e+01\n",
            "  1.61397555e+01 -1.99866189e+00 -1.99866189e+00  2.37448857e+01\n",
            "  3.47600976e+01 -1.92695810e+00 -1.85525431e+00 -6.36289909e-01\n",
            " -1.64014295e+00 -8.17813669e-01 -1.13821643e+00 -1.42503158e+00\n",
            " -1.35332779e+00 -9.94808851e-01  2.95859339e-01 -1.35332779e+00\n",
            " -1.20992022e+00 -1.78355052e+00 -1.71184673e+00 -1.78355052e+00\n",
            " -1.71184673e+00 -1.56843916e+00 -1.56843916e+00  3.12266101e+01\n",
            "  2.75878312e+01  6.38615277e+00  6.95978308e+00  6.44879940e+00\n",
            "  5.08642743e+00 -1.34363391e-01  2.29903684e+00 -1.13821643e+00\n",
            "  2.37074062e+00  2.54857785e+01  1.85440967e+01  9.00560533e+00\n",
            "  1.57276471e+01  1.43812130e+02  1.32057237e+02 -1.64014295e+00\n",
            " -1.64014295e+00 -1.49673537e+00 -1.49673537e+00  1.52451763e-01\n",
            " -5.64586121e-01 -1.71184673e+00 -1.42503158e+00  2.69114338e+00\n",
            "  3.15495372e+00 -1.64014295e+00 -1.49673537e+00 -1.99866189e+00\n",
            " -1.85525431e+00  7.20395347e+00  6.63032316e+00 -1.85525431e+00\n",
            " -1.85525431e+00 -1.85525431e+00 -1.92695810e+00  1.87256205e+01\n",
            "  1.89743195e+01 -1.56843916e+00 -1.42503158e+00 -1.99866189e+00\n",
            " -1.92695810e+00 -9.61221245e-01 -1.71184673e+00  1.51494882e+01\n",
            "  1.17594083e+01 -1.78355052e+00 -1.71184673e+00  1.00249317e+01\n",
            "  6.12839665e+00  1.51585454e+01  2.77085959e+01 -1.92695810e+00\n",
            " -1.99866189e+00 -1.42503158e+00 -1.64014295e+00 -1.71184673e+00\n",
            " -1.64014295e+00 -1.92695810e+00 -1.64014295e+00  3.94369539e+00\n",
            "  4.26862673e+00  5.06442127e-01 -8.89517457e-01 -1.42503158e+00\n",
            " -1.49673537e+00 -1.99866189e+00 -1.92695810e+00 -9.61221245e-01\n",
            " -1.78355052e+00  4.80414085e+00  4.16333533e+00  5.08642743e+00\n",
            "  8.44744832e+00  4.84678561e+00  4.77055324e+00  1.16450598e+01\n",
            "  1.01438088e+01 -1.92695810e+00 -2.07036568e+00 -2.77770967e-01\n",
            " -1.28162400e+00 -9.94808851e-01  2.57743156e-01  4.29252723e+01\n",
            "  3.68776237e+01 -2.06067179e-01 -9.23105062e-01  2.85210121e+02\n",
            "  2.35568076e+02  6.37709562e+00  5.84611007e+00 -1.78355052e+00\n",
            " -1.85525431e+00  4.70337803e+00  6.13745380e+00  3.29446945e-01\n",
            " -1.34363391e-01 -1.92695810e+00 -1.85525431e+00 -1.85525431e+00\n",
            " -1.92695810e+00 -1.64014295e+00 -1.64014295e+00  1.50576659e+00\n",
            "  8.07479743e-02]\n"
          ]
        }
      ]
    },
    {
      "cell_type": "markdown",
      "source": [
        "As you imagine, hard to read. It doesn't know how we cant have negative or decimal medals. Let's manually touch this up"
      ],
      "metadata": {
        "id": "pEO0kYKHZfF-"
      }
    },
    {
      "cell_type": "code",
      "source": [
        "# Let's add this predictions MADE FROM TRAIN DATA to our test data as a column\n",
        "test_data[\"predictions\"] = predictions\n",
        "\n",
        "print(test_data)"
      ],
      "metadata": {
        "colab": {
          "base_uri": "https://localhost:8080/"
        },
        "id": "wiTiYoQqZpO3",
        "outputId": "da9aa0a1-7a99-4f21-855f-f05461f89b6f"
      },
      "execution_count": 20,
      "outputs": [
        {
          "output_type": "stream",
          "name": "stdout",
          "text": [
            "     team      country  year  athletes   age  prev_medals  medals  predictions\n",
            "6     AFG  Afghanistan  2012         6  24.8          1.0       1    -0.961221\n",
            "7     AFG  Afghanistan  2016         3  24.7          1.0       0    -1.176333\n",
            "24    ALB      Albania  2012        10  25.7          0.0       0    -1.425032\n",
            "25    ALB      Albania  2016         6  23.7          0.0       0    -1.711847\n",
            "37    ALG      Algeria  2012        39  24.8          2.0       1     2.155629\n",
            "...   ...          ...   ...       ...   ...          ...     ...          ...\n",
            "2111  YEM        Yemen  2016         3  19.3          0.0       0    -1.926958\n",
            "2131  ZAM       Zambia  2012         7  22.6          0.0       0    -1.640143\n",
            "2132  ZAM       Zambia  2016         7  24.1          0.0       0    -1.640143\n",
            "2142  ZIM     Zimbabwe  2012         9  27.3          4.0       0     1.505767\n",
            "2143  ZIM     Zimbabwe  2016        31  27.5          0.0       0     0.080748\n",
            "\n",
            "[405 rows x 8 columns]\n"
          ]
        }
      ]
    },
    {
      "cell_type": "code",
      "source": [
        "# If negative, just make a 0 - this is specific to our real life case\n",
        "# Round decimals\n",
        "test_data.loc[test_data[\"predictions\"] < 0, \"predictions\"] = 0\n",
        "test_data[\"predictions\"] = test_data[\"predictions\"].round()\n",
        "\n",
        "# Visualize - clean\n",
        "print(test_data)"
      ],
      "metadata": {
        "colab": {
          "base_uri": "https://localhost:8080/"
        },
        "id": "qnyxqsB9Z2Wt",
        "outputId": "a65273f4-6143-44c4-dbad-afa247aaa1c8"
      },
      "execution_count": 21,
      "outputs": [
        {
          "output_type": "stream",
          "name": "stdout",
          "text": [
            "     team      country  year  athletes   age  prev_medals  medals  predictions\n",
            "6     AFG  Afghanistan  2012         6  24.8          1.0       1          0.0\n",
            "7     AFG  Afghanistan  2016         3  24.7          1.0       0          0.0\n",
            "24    ALB      Albania  2012        10  25.7          0.0       0          0.0\n",
            "25    ALB      Albania  2016         6  23.7          0.0       0          0.0\n",
            "37    ALG      Algeria  2012        39  24.8          2.0       1          2.0\n",
            "...   ...          ...   ...       ...   ...          ...     ...          ...\n",
            "2111  YEM        Yemen  2016         3  19.3          0.0       0          0.0\n",
            "2131  ZAM       Zambia  2012         7  22.6          0.0       0          0.0\n",
            "2132  ZAM       Zambia  2016         7  24.1          0.0       0          0.0\n",
            "2142  ZIM     Zimbabwe  2012         9  27.3          4.0       0          2.0\n",
            "2143  ZIM     Zimbabwe  2016        31  27.5          0.0       0          0.0\n",
            "\n",
            "[405 rows x 8 columns]\n"
          ]
        }
      ]
    },
    {
      "cell_type": "markdown",
      "source": [
        "Now, let's look into our mean absolute error. Essentially, from our predictions how off is it ON AVERAGE, because there are many predictions to compare, whats the average difference between prediction, and actuality (this is why we have test data)"
      ],
      "metadata": {
        "id": "HQ3sHXjnai_D"
      }
    },
    {
      "cell_type": "code",
      "source": [
        "from sklearn.metrics import mean_absolute_error\n",
        "\n",
        "# Please remember the test_data predictions were made from the training_data and we added it as column for ease\n",
        "error = mean_absolute_error(test_data[\"medals\"], test_data[\"predictions\"])\n",
        "\n",
        "print(error)"
      ],
      "metadata": {
        "colab": {
          "base_uri": "https://localhost:8080/"
        },
        "id": "Ie5_Xmviawtj",
        "outputId": "9b3f5e29-a735-4406-bbe6-14079f8e4d60"
      },
      "execution_count": 22,
      "outputs": [
        {
          "output_type": "stream",
          "name": "stdout",
          "text": [
            "3.2987654320987656\n"
          ]
        }
      ]
    },
    {
      "cell_type": "code",
      "source": [
        "# Let's check if our error is lower than standard deviation - BASIC sanity check\n",
        "teams.describe()[\"medals\"]"
      ],
      "metadata": {
        "colab": {
          "base_uri": "https://localhost:8080/",
          "height": 335
        },
        "id": "x4X7S-epbjQy",
        "outputId": "a05021b8-70d9-42f1-eed5-c0b3ac06e84d"
      },
      "execution_count": 23,
      "outputs": [
        {
          "output_type": "execute_result",
          "data": {
            "text/plain": [
              "count    2014.000000\n",
              "mean       10.990070\n",
              "std        33.627528\n",
              "min         0.000000\n",
              "25%         0.000000\n",
              "50%         0.000000\n",
              "75%         5.000000\n",
              "max       442.000000\n",
              "Name: medals, dtype: float64"
            ],
            "text/html": [
              "<div>\n",
              "<style scoped>\n",
              "    .dataframe tbody tr th:only-of-type {\n",
              "        vertical-align: middle;\n",
              "    }\n",
              "\n",
              "    .dataframe tbody tr th {\n",
              "        vertical-align: top;\n",
              "    }\n",
              "\n",
              "    .dataframe thead th {\n",
              "        text-align: right;\n",
              "    }\n",
              "</style>\n",
              "<table border=\"1\" class=\"dataframe\">\n",
              "  <thead>\n",
              "    <tr style=\"text-align: right;\">\n",
              "      <th></th>\n",
              "      <th>medals</th>\n",
              "    </tr>\n",
              "  </thead>\n",
              "  <tbody>\n",
              "    <tr>\n",
              "      <th>count</th>\n",
              "      <td>2014.000000</td>\n",
              "    </tr>\n",
              "    <tr>\n",
              "      <th>mean</th>\n",
              "      <td>10.990070</td>\n",
              "    </tr>\n",
              "    <tr>\n",
              "      <th>std</th>\n",
              "      <td>33.627528</td>\n",
              "    </tr>\n",
              "    <tr>\n",
              "      <th>min</th>\n",
              "      <td>0.000000</td>\n",
              "    </tr>\n",
              "    <tr>\n",
              "      <th>25%</th>\n",
              "      <td>0.000000</td>\n",
              "    </tr>\n",
              "    <tr>\n",
              "      <th>50%</th>\n",
              "      <td>0.000000</td>\n",
              "    </tr>\n",
              "    <tr>\n",
              "      <th>75%</th>\n",
              "      <td>5.000000</td>\n",
              "    </tr>\n",
              "    <tr>\n",
              "      <th>max</th>\n",
              "      <td>442.000000</td>\n",
              "    </tr>\n",
              "  </tbody>\n",
              "</table>\n",
              "</div><br><label><b>dtype:</b> float64</label>"
            ]
          },
          "metadata": {},
          "execution_count": 23
        }
      ]
    },
    {
      "cell_type": "markdown",
      "source": [
        "Now we can look country by country."
      ],
      "metadata": {
        "id": "smeA0c1Xb1Ov"
      }
    },
    {
      "cell_type": "code",
      "source": [
        "# USA\n",
        "print(test_data[test_data[\"team\"] == \"USA\"])"
      ],
      "metadata": {
        "colab": {
          "base_uri": "https://localhost:8080/"
        },
        "id": "IzE38W8Xb2i-",
        "outputId": "066bbb9e-f124-44e1-a7f2-d03a95628b82"
      },
      "execution_count": 24,
      "outputs": [
        {
          "output_type": "stream",
          "name": "stdout",
          "text": [
            "     team        country  year  athletes   age  prev_medals  medals  \\\n",
            "2053  USA  United States  2012       689  26.7        317.0     248   \n",
            "2054  USA  United States  2016       719  26.4        248.0     264   \n",
            "\n",
            "      predictions  \n",
            "2053        285.0  \n",
            "2054        236.0  \n"
          ]
        }
      ]
    },
    {
      "cell_type": "code",
      "source": [
        "# All with just a bit less cols\n",
        "print(test_data[[\"country\", \"year\", \"medals\", \"predictions\"]])"
      ],
      "metadata": {
        "colab": {
          "base_uri": "https://localhost:8080/"
        },
        "id": "W3tnk1D1cCfY",
        "outputId": "7d73f583-0705-46ce-e939-df4263b658b0"
      },
      "execution_count": 25,
      "outputs": [
        {
          "output_type": "stream",
          "name": "stdout",
          "text": [
            "          country  year  medals  predictions\n",
            "6     Afghanistan  2012       1          0.0\n",
            "7     Afghanistan  2016       0          0.0\n",
            "24        Albania  2012       0          0.0\n",
            "25        Albania  2016       0          0.0\n",
            "37        Algeria  2012       1          2.0\n",
            "...           ...   ...     ...          ...\n",
            "2111        Yemen  2016       0          0.0\n",
            "2131       Zambia  2012       0          0.0\n",
            "2132       Zambia  2016       0          0.0\n",
            "2142     Zimbabwe  2012       0          2.0\n",
            "2143     Zimbabwe  2016       0          0.0\n",
            "\n",
            "[405 rows x 4 columns]\n"
          ]
        }
      ]
    },
    {
      "cell_type": "markdown",
      "source": [
        "Now let's look into the errors a bit specifically, we have many countries, over many years, let's look into the average error margin we have by country overall, taking in all the years data we have."
      ],
      "metadata": {
        "id": "PQd60WD2ceyQ"
      }
    },
    {
      "cell_type": "code",
      "source": [
        "gen_errors = (test_data[\"medals\"] - test_data[\"predictions\"]).abs()\n",
        "\n",
        "# Calculate mean error by calculate seperate group by each team, then find mean error within\n",
        "error_by_country = gen_errors.groupby(test_data[\"team\"]).mean()\n",
        "\n",
        "print(error_by_country)"
      ],
      "metadata": {
        "colab": {
          "base_uri": "https://localhost:8080/"
        },
        "id": "bDl7n9H-dq_N",
        "outputId": "39806a36-b5f1-4dd0-8efa-a0cda6efb977"
      },
      "execution_count": 26,
      "outputs": [
        {
          "output_type": "stream",
          "name": "stdout",
          "text": [
            "team\n",
            "AFG    0.5\n",
            "ALB    0.0\n",
            "ALG    1.5\n",
            "AND    0.0\n",
            "ANG    0.0\n",
            "      ... \n",
            "VIE    1.0\n",
            "VIN    0.0\n",
            "YEM    0.0\n",
            "ZAM    0.0\n",
            "ZIM    1.0\n",
            "Length: 204, dtype: float64\n"
          ]
        }
      ]
    },
    {
      "cell_type": "markdown",
      "source": [
        "That's the number of how much it was off by, but this doesn't provide **REAL CONTEXT**\n",
        "\n",
        "* Being off by 3 in a comparison like 248-251 is **NOT the same** as being off by 2 in something like 2-5."
      ],
      "metadata": {
        "id": "oXT_Rq8RexRm"
      }
    },
    {
      "cell_type": "code",
      "source": [
        "medals_by_country = test_data[\"medals\"].groupby(test_data[\"team\"]).mean()\n",
        "error_ratio = error_by_country / medals_by_country\n",
        "\n",
        "print(error_ratio)"
      ],
      "metadata": {
        "colab": {
          "base_uri": "https://localhost:8080/"
        },
        "id": "Q-XpH2V6fauP",
        "outputId": "d3e8b660-69cc-47e0-983d-884777aa174b"
      },
      "execution_count": 27,
      "outputs": [
        {
          "output_type": "stream",
          "name": "stdout",
          "text": [
            "team\n",
            "AFG    1.0\n",
            "ALB    NaN\n",
            "ALG    1.0\n",
            "AND    NaN\n",
            "ANG    NaN\n",
            "      ... \n",
            "VIE    1.0\n",
            "VIN    NaN\n",
            "YEM    NaN\n",
            "ZAM    NaN\n",
            "ZIM    inf\n",
            "Length: 204, dtype: float64\n"
          ]
        }
      ]
    },
    {
      "cell_type": "code",
      "source": [
        "# You have to remember there may be 0s, so can get NaN or infinity\n",
        "import numpy as np\n",
        "\n",
        "error_ratio = error_ratio[np.isfinite(error_ratio)]\n",
        "print(error_ratio)"
      ],
      "metadata": {
        "colab": {
          "base_uri": "https://localhost:8080/"
        },
        "id": "dda7Ue-sf9a7",
        "outputId": "56f3fb32-9b6a-4f4b-9a07-792f5bdf0c1f"
      },
      "execution_count": 28,
      "outputs": [
        {
          "output_type": "stream",
          "name": "stdout",
          "text": [
            "team\n",
            "AFG    1.000000\n",
            "ALG    1.000000\n",
            "ARG    0.853659\n",
            "ARM    0.428571\n",
            "AUS    0.367347\n",
            "         ...   \n",
            "UKR    0.951220\n",
            "USA    0.126953\n",
            "UZB    0.625000\n",
            "VEN    1.750000\n",
            "VIE    1.000000\n",
            "Length: 97, dtype: float64\n"
          ]
        }
      ]
    },
    {
      "cell_type": "markdown",
      "source": [
        "This varies alot, why? You have to again consider our data, 1 predicted 2 earned that's a 100% error margin, even though in practice not a crazy prediction. We see USA (higher medal count country) with a lower margin, you can again imagine why in application. Thus, you need to take into account your situation but also the literal values here as well.\n",
        "\n",
        "**That being said** - Higher number of medals, we see more accuracy"
      ],
      "metadata": {
        "id": "8dxzTLd2gkkx"
      }
    },
    {
      "cell_type": "markdown",
      "source": [
        "# Final Takeaways\n",
        "\n",
        "### Let's show by lowest ratio (so most accurate), and you can see this phenomena"
      ],
      "metadata": {
        "id": "aJxIZ3InhY7O"
      }
    },
    {
      "cell_type": "code",
      "source": [
        "# Create summary with medals, predictions, and error_ratio\n",
        "summary = test_data.groupby(\"team\").agg({\n",
        "    \"medals\": \"mean\",\n",
        "    \"predictions\": \"mean\"\n",
        "})\n",
        "\n",
        "# Add error_ratio and drop NaN rows, we hadn't added it to test_data yet\n",
        "summary[\"error_ratio\"] = error_ratio\n",
        "summary = summary.dropna()\n",
        "\n",
        "# Sort by error_ratio and display\n",
        "summary.sort_values(\"error_ratio\")[[\"medals\", \"predictions\", \"error_ratio\"]]"
      ],
      "metadata": {
        "colab": {
          "base_uri": "https://localhost:8080/",
          "height": 455
        },
        "id": "tZE-GyQihk0X",
        "outputId": "0efe1d20-6a14-4ff8-a711-75d8100fe69d"
      },
      "execution_count": 29,
      "outputs": [
        {
          "output_type": "execute_result",
          "data": {
            "text/plain": [
              "      medals  predictions  error_ratio\n",
              "team                                  \n",
              "FRA     89.0         91.0     0.022472\n",
              "CAN     62.0         59.0     0.048387\n",
              "NZL     31.5         29.5     0.063492\n",
              "RUS    127.5        138.0     0.082353\n",
              "ITA     70.0         67.5     0.121429\n",
              "...      ...          ...          ...\n",
              "MAR      1.0          3.0     2.000000\n",
              "EGY      2.5          8.5     2.400000\n",
              "HKG      0.5          2.0     3.000000\n",
              "POR      1.5          6.5     3.333333\n",
              "AUT      1.0          5.5     4.500000\n",
              "\n",
              "[97 rows x 3 columns]"
            ],
            "text/html": [
              "\n",
              "  <div id=\"df-ea3b9e07-9dbf-48a6-b5d4-4151c9276b51\" class=\"colab-df-container\">\n",
              "    <div>\n",
              "<style scoped>\n",
              "    .dataframe tbody tr th:only-of-type {\n",
              "        vertical-align: middle;\n",
              "    }\n",
              "\n",
              "    .dataframe tbody tr th {\n",
              "        vertical-align: top;\n",
              "    }\n",
              "\n",
              "    .dataframe thead th {\n",
              "        text-align: right;\n",
              "    }\n",
              "</style>\n",
              "<table border=\"1\" class=\"dataframe\">\n",
              "  <thead>\n",
              "    <tr style=\"text-align: right;\">\n",
              "      <th></th>\n",
              "      <th>medals</th>\n",
              "      <th>predictions</th>\n",
              "      <th>error_ratio</th>\n",
              "    </tr>\n",
              "    <tr>\n",
              "      <th>team</th>\n",
              "      <th></th>\n",
              "      <th></th>\n",
              "      <th></th>\n",
              "    </tr>\n",
              "  </thead>\n",
              "  <tbody>\n",
              "    <tr>\n",
              "      <th>FRA</th>\n",
              "      <td>89.0</td>\n",
              "      <td>91.0</td>\n",
              "      <td>0.022472</td>\n",
              "    </tr>\n",
              "    <tr>\n",
              "      <th>CAN</th>\n",
              "      <td>62.0</td>\n",
              "      <td>59.0</td>\n",
              "      <td>0.048387</td>\n",
              "    </tr>\n",
              "    <tr>\n",
              "      <th>NZL</th>\n",
              "      <td>31.5</td>\n",
              "      <td>29.5</td>\n",
              "      <td>0.063492</td>\n",
              "    </tr>\n",
              "    <tr>\n",
              "      <th>RUS</th>\n",
              "      <td>127.5</td>\n",
              "      <td>138.0</td>\n",
              "      <td>0.082353</td>\n",
              "    </tr>\n",
              "    <tr>\n",
              "      <th>ITA</th>\n",
              "      <td>70.0</td>\n",
              "      <td>67.5</td>\n",
              "      <td>0.121429</td>\n",
              "    </tr>\n",
              "    <tr>\n",
              "      <th>...</th>\n",
              "      <td>...</td>\n",
              "      <td>...</td>\n",
              "      <td>...</td>\n",
              "    </tr>\n",
              "    <tr>\n",
              "      <th>MAR</th>\n",
              "      <td>1.0</td>\n",
              "      <td>3.0</td>\n",
              "      <td>2.000000</td>\n",
              "    </tr>\n",
              "    <tr>\n",
              "      <th>EGY</th>\n",
              "      <td>2.5</td>\n",
              "      <td>8.5</td>\n",
              "      <td>2.400000</td>\n",
              "    </tr>\n",
              "    <tr>\n",
              "      <th>HKG</th>\n",
              "      <td>0.5</td>\n",
              "      <td>2.0</td>\n",
              "      <td>3.000000</td>\n",
              "    </tr>\n",
              "    <tr>\n",
              "      <th>POR</th>\n",
              "      <td>1.5</td>\n",
              "      <td>6.5</td>\n",
              "      <td>3.333333</td>\n",
              "    </tr>\n",
              "    <tr>\n",
              "      <th>AUT</th>\n",
              "      <td>1.0</td>\n",
              "      <td>5.5</td>\n",
              "      <td>4.500000</td>\n",
              "    </tr>\n",
              "  </tbody>\n",
              "</table>\n",
              "<p>97 rows × 3 columns</p>\n",
              "</div>\n",
              "    <div class=\"colab-df-buttons\">\n",
              "\n",
              "  <div class=\"colab-df-container\">\n",
              "    <button class=\"colab-df-convert\" onclick=\"convertToInteractive('df-ea3b9e07-9dbf-48a6-b5d4-4151c9276b51')\"\n",
              "            title=\"Convert this dataframe to an interactive table.\"\n",
              "            style=\"display:none;\">\n",
              "\n",
              "  <svg xmlns=\"http://www.w3.org/2000/svg\" height=\"24px\" viewBox=\"0 -960 960 960\">\n",
              "    <path d=\"M120-120v-720h720v720H120Zm60-500h600v-160H180v160Zm220 220h160v-160H400v160Zm0 220h160v-160H400v160ZM180-400h160v-160H180v160Zm440 0h160v-160H620v160ZM180-180h160v-160H180v160Zm440 0h160v-160H620v160Z\"/>\n",
              "  </svg>\n",
              "    </button>\n",
              "\n",
              "  <style>\n",
              "    .colab-df-container {\n",
              "      display:flex;\n",
              "      gap: 12px;\n",
              "    }\n",
              "\n",
              "    .colab-df-convert {\n",
              "      background-color: #E8F0FE;\n",
              "      border: none;\n",
              "      border-radius: 50%;\n",
              "      cursor: pointer;\n",
              "      display: none;\n",
              "      fill: #1967D2;\n",
              "      height: 32px;\n",
              "      padding: 0 0 0 0;\n",
              "      width: 32px;\n",
              "    }\n",
              "\n",
              "    .colab-df-convert:hover {\n",
              "      background-color: #E2EBFA;\n",
              "      box-shadow: 0px 1px 2px rgba(60, 64, 67, 0.3), 0px 1px 3px 1px rgba(60, 64, 67, 0.15);\n",
              "      fill: #174EA6;\n",
              "    }\n",
              "\n",
              "    .colab-df-buttons div {\n",
              "      margin-bottom: 4px;\n",
              "    }\n",
              "\n",
              "    [theme=dark] .colab-df-convert {\n",
              "      background-color: #3B4455;\n",
              "      fill: #D2E3FC;\n",
              "    }\n",
              "\n",
              "    [theme=dark] .colab-df-convert:hover {\n",
              "      background-color: #434B5C;\n",
              "      box-shadow: 0px 1px 3px 1px rgba(0, 0, 0, 0.15);\n",
              "      filter: drop-shadow(0px 1px 2px rgba(0, 0, 0, 0.3));\n",
              "      fill: #FFFFFF;\n",
              "    }\n",
              "  </style>\n",
              "\n",
              "    <script>\n",
              "      const buttonEl =\n",
              "        document.querySelector('#df-ea3b9e07-9dbf-48a6-b5d4-4151c9276b51 button.colab-df-convert');\n",
              "      buttonEl.style.display =\n",
              "        google.colab.kernel.accessAllowed ? 'block' : 'none';\n",
              "\n",
              "      async function convertToInteractive(key) {\n",
              "        const element = document.querySelector('#df-ea3b9e07-9dbf-48a6-b5d4-4151c9276b51');\n",
              "        const dataTable =\n",
              "          await google.colab.kernel.invokeFunction('convertToInteractive',\n",
              "                                                    [key], {});\n",
              "        if (!dataTable) return;\n",
              "\n",
              "        const docLinkHtml = 'Like what you see? Visit the ' +\n",
              "          '<a target=\"_blank\" href=https://colab.research.google.com/notebooks/data_table.ipynb>data table notebook</a>'\n",
              "          + ' to learn more about interactive tables.';\n",
              "        element.innerHTML = '';\n",
              "        dataTable['output_type'] = 'display_data';\n",
              "        await google.colab.output.renderOutput(dataTable, element);\n",
              "        const docLink = document.createElement('div');\n",
              "        docLink.innerHTML = docLinkHtml;\n",
              "        element.appendChild(docLink);\n",
              "      }\n",
              "    </script>\n",
              "  </div>\n",
              "\n",
              "\n",
              "    <div id=\"df-e201698b-594d-4f92-bcd3-6e4660a2e704\">\n",
              "      <button class=\"colab-df-quickchart\" onclick=\"quickchart('df-e201698b-594d-4f92-bcd3-6e4660a2e704')\"\n",
              "                title=\"Suggest charts\"\n",
              "                style=\"display:none;\">\n",
              "\n",
              "<svg xmlns=\"http://www.w3.org/2000/svg\" height=\"24px\"viewBox=\"0 0 24 24\"\n",
              "     width=\"24px\">\n",
              "    <g>\n",
              "        <path d=\"M19 3H5c-1.1 0-2 .9-2 2v14c0 1.1.9 2 2 2h14c1.1 0 2-.9 2-2V5c0-1.1-.9-2-2-2zM9 17H7v-7h2v7zm4 0h-2V7h2v10zm4 0h-2v-4h2v4z\"/>\n",
              "    </g>\n",
              "</svg>\n",
              "      </button>\n",
              "\n",
              "<style>\n",
              "  .colab-df-quickchart {\n",
              "      --bg-color: #E8F0FE;\n",
              "      --fill-color: #1967D2;\n",
              "      --hover-bg-color: #E2EBFA;\n",
              "      --hover-fill-color: #174EA6;\n",
              "      --disabled-fill-color: #AAA;\n",
              "      --disabled-bg-color: #DDD;\n",
              "  }\n",
              "\n",
              "  [theme=dark] .colab-df-quickchart {\n",
              "      --bg-color: #3B4455;\n",
              "      --fill-color: #D2E3FC;\n",
              "      --hover-bg-color: #434B5C;\n",
              "      --hover-fill-color: #FFFFFF;\n",
              "      --disabled-bg-color: #3B4455;\n",
              "      --disabled-fill-color: #666;\n",
              "  }\n",
              "\n",
              "  .colab-df-quickchart {\n",
              "    background-color: var(--bg-color);\n",
              "    border: none;\n",
              "    border-radius: 50%;\n",
              "    cursor: pointer;\n",
              "    display: none;\n",
              "    fill: var(--fill-color);\n",
              "    height: 32px;\n",
              "    padding: 0;\n",
              "    width: 32px;\n",
              "  }\n",
              "\n",
              "  .colab-df-quickchart:hover {\n",
              "    background-color: var(--hover-bg-color);\n",
              "    box-shadow: 0 1px 2px rgba(60, 64, 67, 0.3), 0 1px 3px 1px rgba(60, 64, 67, 0.15);\n",
              "    fill: var(--button-hover-fill-color);\n",
              "  }\n",
              "\n",
              "  .colab-df-quickchart-complete:disabled,\n",
              "  .colab-df-quickchart-complete:disabled:hover {\n",
              "    background-color: var(--disabled-bg-color);\n",
              "    fill: var(--disabled-fill-color);\n",
              "    box-shadow: none;\n",
              "  }\n",
              "\n",
              "  .colab-df-spinner {\n",
              "    border: 2px solid var(--fill-color);\n",
              "    border-color: transparent;\n",
              "    border-bottom-color: var(--fill-color);\n",
              "    animation:\n",
              "      spin 1s steps(1) infinite;\n",
              "  }\n",
              "\n",
              "  @keyframes spin {\n",
              "    0% {\n",
              "      border-color: transparent;\n",
              "      border-bottom-color: var(--fill-color);\n",
              "      border-left-color: var(--fill-color);\n",
              "    }\n",
              "    20% {\n",
              "      border-color: transparent;\n",
              "      border-left-color: var(--fill-color);\n",
              "      border-top-color: var(--fill-color);\n",
              "    }\n",
              "    30% {\n",
              "      border-color: transparent;\n",
              "      border-left-color: var(--fill-color);\n",
              "      border-top-color: var(--fill-color);\n",
              "      border-right-color: var(--fill-color);\n",
              "    }\n",
              "    40% {\n",
              "      border-color: transparent;\n",
              "      border-right-color: var(--fill-color);\n",
              "      border-top-color: var(--fill-color);\n",
              "    }\n",
              "    60% {\n",
              "      border-color: transparent;\n",
              "      border-right-color: var(--fill-color);\n",
              "    }\n",
              "    80% {\n",
              "      border-color: transparent;\n",
              "      border-right-color: var(--fill-color);\n",
              "      border-bottom-color: var(--fill-color);\n",
              "    }\n",
              "    90% {\n",
              "      border-color: transparent;\n",
              "      border-bottom-color: var(--fill-color);\n",
              "    }\n",
              "  }\n",
              "</style>\n",
              "\n",
              "      <script>\n",
              "        async function quickchart(key) {\n",
              "          const quickchartButtonEl =\n",
              "            document.querySelector('#' + key + ' button');\n",
              "          quickchartButtonEl.disabled = true;  // To prevent multiple clicks.\n",
              "          quickchartButtonEl.classList.add('colab-df-spinner');\n",
              "          try {\n",
              "            const charts = await google.colab.kernel.invokeFunction(\n",
              "                'suggestCharts', [key], {});\n",
              "          } catch (error) {\n",
              "            console.error('Error during call to suggestCharts:', error);\n",
              "          }\n",
              "          quickchartButtonEl.classList.remove('colab-df-spinner');\n",
              "          quickchartButtonEl.classList.add('colab-df-quickchart-complete');\n",
              "        }\n",
              "        (() => {\n",
              "          let quickchartButtonEl =\n",
              "            document.querySelector('#df-e201698b-594d-4f92-bcd3-6e4660a2e704 button');\n",
              "          quickchartButtonEl.style.display =\n",
              "            google.colab.kernel.accessAllowed ? 'block' : 'none';\n",
              "        })();\n",
              "      </script>\n",
              "    </div>\n",
              "\n",
              "    </div>\n",
              "  </div>\n"
            ],
            "application/vnd.google.colaboratory.intrinsic+json": {
              "type": "dataframe",
              "summary": "{\n  \"name\": \"summary\",\n  \"rows\": 97,\n  \"fields\": [\n    {\n      \"column\": \"team\",\n      \"properties\": {\n        \"dtype\": \"string\",\n        \"num_unique_values\": 97,\n        \"samples\": [\n          \"LAT\",\n          \"TPE\",\n          \"EGY\"\n        ],\n        \"semantic_type\": \"\",\n        \"description\": \"\"\n      }\n    },\n    {\n      \"column\": \"medals\",\n      \"properties\": {\n        \"dtype\": \"number\",\n        \"std\": 38.6067667904256,\n        \"min\": 0.5,\n        \"max\": 256.0,\n        \"num_unique_values\": 48,\n        \"samples\": [\n          27.5,\n          17.5,\n          24.0\n        ],\n        \"semantic_type\": \"\",\n        \"description\": \"\"\n      }\n    },\n    {\n      \"column\": \"predictions\",\n      \"properties\": {\n        \"dtype\": \"number\",\n        \"std\": 40.84351554442263,\n        \"min\": 0.0,\n        \"max\": 260.5,\n        \"num_unique_values\": 49,\n        \"samples\": [\n          6.0,\n          0.0,\n          30.5\n        ],\n        \"semantic_type\": \"\",\n        \"description\": \"\"\n      }\n    },\n    {\n      \"column\": \"error_ratio\",\n      \"properties\": {\n        \"dtype\": \"number\",\n        \"std\": 0.7020141206373567,\n        \"min\": 0.02247191011235955,\n        \"max\": 4.5,\n        \"num_unique_values\": 72,\n        \"samples\": [\n          0.12142857142857143,\n          1.44,\n          0.2648221343873518\n        ],\n        \"semantic_type\": \"\",\n        \"description\": \"\"\n      }\n    }\n  ]\n}"
            }
          },
          "metadata": {},
          "execution_count": 29
        }
      ]
    },
    {
      "cell_type": "markdown",
      "source": [
        "This excludes the NaN infinite one. Data we can actually inspect. Alright I'm ready send me to OpenAI."
      ],
      "metadata": {
        "id": "2g68kGquipES"
      }
    }
  ]
}